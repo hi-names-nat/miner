{
 "cells": [
  {
   "cell_type": "markdown",
   "metadata": {
    "pycharm": {
     "name": "#%% md\n"
    }
   },
   "source": [
    "# This is the initializer. Run this first."
   ]
  },
  {
   "cell_type": "code",
   "execution_count": 2,
   "metadata": {
    "collapsed": true,
    "pycharm": {
     "name": "#%%\n"
    }
   },
   "outputs": [
    {
     "name": "stdout",
     "output_type": "stream",
     "text": [
      "csv loaded...\n"
     ]
    }
   ],
   "source": [
    "#Initializer. Run me first.\n",
    "import matplotlib.pyplot as plt\n",
    "import pandas\n",
    "\n",
    "debug = 0\n",
    "\n",
    "%matplotlib inline\n",
    "plt.rcParams[\"figure.figsize\"] = [100, 50]\n",
    "plt.rcParams.update({'font.size': 15})\n",
    "\n",
    "data = pandas.read_csv(\"mutations.csv\")\n",
    "\n",
    "print(\"csv loaded...\")\n",
    "\n",
    "if debug: print(data)\n",
    "\n",
    "\n"
   ]
  },
  {
   "cell_type": "markdown",
   "metadata": {
    "pycharm": {
     "name": "#%% md\n"
    }
   },
   "source": [
    "# Here's where we read our num cancer and num not"
   ]
  },
  {
   "cell_type": "code",
   "execution_count": 3,
   "metadata": {
    "pycharm": {
     "name": "#%%\n"
    }
   },
   "outputs": [
    {
     "name": "stdout",
     "output_type": "stream",
     "text": [
      "110\n",
      "120\n"
     ]
    }
   ],
   "source": [
    "\n",
    "numNot = 0\n",
    "numCancer = 0\n",
    "for i  in range(230):\n",
    "    dat = data.iloc[i,0]\n",
    "    if dat[0] == 'N':\n",
    "        numNot = numNot + 1\n",
    "    else:\n",
    "        numCancer = numCancer + 1\n",
    "\n",
    "print(numCancer)\n",
    "print(numNot)"
   ]
  },
  {
   "cell_type": "markdown",
   "metadata": {
    "pycharm": {
     "name": "#%% md\n"
    }
   },
   "source": [
    "# Under this are the chart data generators!"
   ]
  },
  {
   "cell_type": "code",
   "execution_count": null,
   "metadata": {
    "pycharm": {
     "is_executing": true,
     "name": "#%%\n"
    }
   },
   "outputs": [],
   "source": [
    "numNot  : int = 0\n",
    "numCancer : int = 0\n",
    "totalInRow : int = 0\n",
    "x : dict = dict()\n",
    "\n",
    "#loop through and generate per patient data\n",
    "for i  in range(0, 230, 1):\n",
    "    j = 1\n",
    "    totalInRow = 0\n",
    "    for j in range(1,3817, 1):\n",
    "        dat = int(data.iloc[i,j])\n",
    "        totalInRow = totalInRow + int(dat)\n",
    "    x[i] = [str(data.iloc[i,0]\n",
    "\n",
    "    for j in range(1, len(mReadableData.columns), 1):\n",
    "\n",
    "        countFalsePos = 0\n",
    "        countTruePos = 0), int(totalInRow)]\n",
    "ff = pandas.DataFrame.from_dict(x, \"index\")\n",
    "print(ff)\n"
   ]
  },
  {
   "cell_type": "code",
   "execution_count": null,
   "metadata": {
    "pycharm": {
     "name": "#%%\n"
    }
   },
   "outputs": [],
   "source": [
    "xnumNot  : int = 0\n",
    "numCancer : int = 0\n",
    "totalInRow : int = 0\n",
    "x : dict = dict()\n",
    "\n",
    "#loop through and generate per mutation data\n",
    "for i  in range(1,3817, 1):\n",
    "    j = 1\n",
    "    totalInRow = 0\n",
    "    for j in range(0, 230, 1):\n",
    "        dat = int(data.iloc[j, i])\n",
    "        totalInRow = totalInRow + int(dat)\n",
    "    x[i] = [str(data.columns[i]), int(totalInRow)]\n",
    "ff = pandas.DataFrame.from_dict(x, \"index\")\n",
    "print(ff)"
   ]
  },
  {
   "cell_type": "code",
   "execution_count": null,
   "metadata": {
    "pycharm": {
     "is_executing": true,
     "name": "#%%\n"
    }
   },
   "outputs": [],
   "source": [
    "ff.plot.scatter(0, 1, 200)"
   ]
  },
  {
   "cell_type": "markdown",
   "metadata": {
    "pycharm": {
     "name": "#%% md\n"
    }
   },
   "source": [
    "# Table Generators"
   ]
  },
  {
   "cell_type": "code",
   "execution_count": null,
   "metadata": {
    "pycharm": {
     "name": "#%%\n"
    }
   },
   "outputs": [],
   "source": [
    "#This is where we get the total number of cancerous and non cancerous samples\n",
    "\n",
    "\n",
    "# MIght be unneeded\n",
    "# numNot = 0\n",
    "# numCancer = 0\n",
    "# for i  in range(230):\n",
    "#     dat = data.iloc[i,0]\n",
    "#     if dat[0] == 'N':\n",
    "#         numNot = numNot + 1\n",
    "#     else:\n",
    "#         numCancer = numCancer + 1\n",
    "#\n",
    "# print(numCancer)\n",
    "# print(numNot)"
   ]
  },
  {
   "cell_type": "code",
   "execution_count": 24,
   "metadata": {
    "pycharm": {
     "name": "#%%\n"
    }
   },
   "outputs": [
    {
     "ename": "KeyboardInterrupt",
     "evalue": "",
     "output_type": "error",
     "traceback": [
      "\u001b[0;31m---------------------------------------------------------------------------\u001b[0m",
      "\u001b[0;31mKeyboardInterrupt\u001b[0m                         Traceback (most recent call last)",
      "Input \u001b[0;32mIn [24]\u001b[0m, in \u001b[0;36m<cell line: 7>\u001b[0;34m()\u001b[0m\n\u001b[1;32m      4\u001b[0m x : \u001b[38;5;28mdict\u001b[39m \u001b[38;5;241m=\u001b[39m \u001b[38;5;28mdict\u001b[39m()\n\u001b[1;32m      6\u001b[0m \u001b[38;5;66;03m#loop through and generate per mutation data\u001b[39;00m\n\u001b[0;32m----> 7\u001b[0m \u001b[38;5;28;01mfor\u001b[39;00m i  \u001b[38;5;129;01min\u001b[39;00m \u001b[38;5;28mrange\u001b[39m(\u001b[38;5;241m1\u001b[39m,\u001b[38;5;241m3817\u001b[39m, \u001b[38;5;241m1\u001b[39m):\n\u001b[1;32m      9\u001b[0m     NumPositiveSamples : \u001b[38;5;28mint\u001b[39m \u001b[38;5;241m=\u001b[39m \u001b[38;5;241m0\u001b[39m\n\u001b[1;32m     10\u001b[0m     NumNegativeSamples : \u001b[38;5;28mint\u001b[39m \u001b[38;5;241m=\u001b[39m \u001b[38;5;241m0\u001b[39m\n",
      "Input \u001b[0;32mIn [24]\u001b[0m, in \u001b[0;36m<cell line: 7>\u001b[0;34m()\u001b[0m\n\u001b[1;32m      4\u001b[0m x : \u001b[38;5;28mdict\u001b[39m \u001b[38;5;241m=\u001b[39m \u001b[38;5;28mdict\u001b[39m()\n\u001b[1;32m      6\u001b[0m \u001b[38;5;66;03m#loop through and generate per mutation data\u001b[39;00m\n\u001b[0;32m----> 7\u001b[0m \u001b[38;5;28;01mfor\u001b[39;00m i  \u001b[38;5;129;01min\u001b[39;00m \u001b[38;5;28mrange\u001b[39m(\u001b[38;5;241m1\u001b[39m,\u001b[38;5;241m3817\u001b[39m, \u001b[38;5;241m1\u001b[39m):\n\u001b[1;32m      9\u001b[0m     NumPositiveSamples : \u001b[38;5;28mint\u001b[39m \u001b[38;5;241m=\u001b[39m \u001b[38;5;241m0\u001b[39m\n\u001b[1;32m     10\u001b[0m     NumNegativeSamples : \u001b[38;5;28mint\u001b[39m \u001b[38;5;241m=\u001b[39m \u001b[38;5;241m0\u001b[39m\n",
      "File \u001b[0;32m~/.local/share/JetBrains/Toolbox/apps/PyCharm-P/ch-0/222.3739.56/plugins/python/helpers/pydev/_pydevd_bundle/pydevd_frame.py:880\u001b[0m, in \u001b[0;36mPyDBFrame.trace_dispatch\u001b[0;34m(self, frame, event, arg)\u001b[0m\n\u001b[1;32m    877\u001b[0m             stop \u001b[38;5;241m=\u001b[39m \u001b[38;5;28;01mFalse\u001b[39;00m\n\u001b[1;32m    879\u001b[0m \u001b[38;5;28;01mif\u001b[39;00m plugin_stop:\n\u001b[0;32m--> 880\u001b[0m     stopped_on_plugin \u001b[38;5;241m=\u001b[39m \u001b[43mplugin_manager\u001b[49m\u001b[38;5;241;43m.\u001b[39;49m\u001b[43mstop\u001b[49m\u001b[43m(\u001b[49m\u001b[43mmain_debugger\u001b[49m\u001b[43m,\u001b[49m\u001b[43m \u001b[49m\u001b[43mframe\u001b[49m\u001b[43m,\u001b[49m\u001b[43m \u001b[49m\u001b[43mevent\u001b[49m\u001b[43m,\u001b[49m\u001b[43m \u001b[49m\u001b[38;5;28;43mself\u001b[39;49m\u001b[38;5;241;43m.\u001b[39;49m\u001b[43m_args\u001b[49m\u001b[43m,\u001b[49m\u001b[43m \u001b[49m\u001b[43mstop_info\u001b[49m\u001b[43m,\u001b[49m\u001b[43m \u001b[49m\u001b[43marg\u001b[49m\u001b[43m,\u001b[49m\u001b[43m \u001b[49m\u001b[43mstep_cmd\u001b[49m\u001b[43m)\u001b[49m\n\u001b[1;32m    881\u001b[0m \u001b[38;5;28;01melif\u001b[39;00m stop:\n\u001b[1;32m    882\u001b[0m     \u001b[38;5;28;01mif\u001b[39;00m is_line:\n",
      "File \u001b[0;32m~/.local/share/JetBrains/Toolbox/apps/PyCharm-P/ch-0/222.3739.56/plugins/python/helpers-pro/jupyter_debug/pydev_jupyter_plugin.py:169\u001b[0m, in \u001b[0;36mstop\u001b[0;34m(plugin, pydb, frame, event, args, stop_info, arg, step_cmd)\u001b[0m\n\u001b[1;32m    167\u001b[0m     frame \u001b[38;5;241m=\u001b[39m suspend_jupyter(main_debugger, thread, frame, step_cmd)\n\u001b[1;32m    168\u001b[0m     \u001b[38;5;28;01mif\u001b[39;00m frame:\n\u001b[0;32m--> 169\u001b[0m         \u001b[43mmain_debugger\u001b[49m\u001b[38;5;241;43m.\u001b[39;49m\u001b[43mdo_wait_suspend\u001b[49m\u001b[43m(\u001b[49m\u001b[43mthread\u001b[49m\u001b[43m,\u001b[49m\u001b[43m \u001b[49m\u001b[43mframe\u001b[49m\u001b[43m,\u001b[49m\u001b[43m \u001b[49m\u001b[43mevent\u001b[49m\u001b[43m,\u001b[49m\u001b[43m \u001b[49m\u001b[43marg\u001b[49m\u001b[43m)\u001b[49m\n\u001b[1;32m    170\u001b[0m         \u001b[38;5;28;01mreturn\u001b[39;00m \u001b[38;5;28;01mTrue\u001b[39;00m\n\u001b[1;32m    171\u001b[0m \u001b[38;5;28;01mreturn\u001b[39;00m \u001b[38;5;28;01mFalse\u001b[39;00m\n",
      "File \u001b[0;32m~/.local/share/JetBrains/Toolbox/apps/PyCharm-P/ch-0/222.3739.56/plugins/python/helpers/pydev/pydevd.py:1160\u001b[0m, in \u001b[0;36mPyDB.do_wait_suspend\u001b[0;34m(self, thread, frame, event, arg, send_suspend_message, is_unhandled_exception)\u001b[0m\n\u001b[1;32m   1157\u001b[0m         from_this_thread\u001b[38;5;241m.\u001b[39mappend(frame_id)\n\u001b[1;32m   1159\u001b[0m \u001b[38;5;28;01mwith\u001b[39;00m \u001b[38;5;28mself\u001b[39m\u001b[38;5;241m.\u001b[39m_threads_suspended_single_notification\u001b[38;5;241m.\u001b[39mnotify_thread_suspended(thread_id, stop_reason):\n\u001b[0;32m-> 1160\u001b[0m     \u001b[38;5;28;43mself\u001b[39;49m\u001b[38;5;241;43m.\u001b[39;49m\u001b[43m_do_wait_suspend\u001b[49m\u001b[43m(\u001b[49m\u001b[43mthread\u001b[49m\u001b[43m,\u001b[49m\u001b[43m \u001b[49m\u001b[43mframe\u001b[49m\u001b[43m,\u001b[49m\u001b[43m \u001b[49m\u001b[43mevent\u001b[49m\u001b[43m,\u001b[49m\u001b[43m \u001b[49m\u001b[43marg\u001b[49m\u001b[43m,\u001b[49m\u001b[43m \u001b[49m\u001b[43msuspend_type\u001b[49m\u001b[43m,\u001b[49m\u001b[43m \u001b[49m\u001b[43mfrom_this_thread\u001b[49m\u001b[43m)\u001b[49m\n",
      "File \u001b[0;32m~/.local/share/JetBrains/Toolbox/apps/PyCharm-P/ch-0/222.3739.56/plugins/python/helpers/pydev/pydevd.py:1175\u001b[0m, in \u001b[0;36mPyDB._do_wait_suspend\u001b[0;34m(self, thread, frame, event, arg, suspend_type, from_this_thread)\u001b[0m\n\u001b[1;32m   1172\u001b[0m             \u001b[38;5;28mself\u001b[39m\u001b[38;5;241m.\u001b[39m_call_mpl_hook()\n\u001b[1;32m   1174\u001b[0m         \u001b[38;5;28mself\u001b[39m\u001b[38;5;241m.\u001b[39mprocess_internal_commands()\n\u001b[0;32m-> 1175\u001b[0m         \u001b[43mtime\u001b[49m\u001b[38;5;241;43m.\u001b[39;49m\u001b[43msleep\u001b[49m\u001b[43m(\u001b[49m\u001b[38;5;241;43m0.01\u001b[39;49m\u001b[43m)\u001b[49m\n\u001b[1;32m   1177\u001b[0m \u001b[38;5;28mself\u001b[39m\u001b[38;5;241m.\u001b[39mcancel_async_evaluation(get_current_thread_id(thread), \u001b[38;5;28mstr\u001b[39m(\u001b[38;5;28mid\u001b[39m(frame)))\n\u001b[1;32m   1179\u001b[0m \u001b[38;5;66;03m# process any stepping instructions\u001b[39;00m\n",
      "\u001b[0;31mKeyboardInterrupt\u001b[0m: "
     ]
    }
   ],
   "source": [
    "#This is the section where we're going to manufacture the tables\n",
    "\n",
    "#Since we're looping thru everything we're gonna do one big loop\n",
    "x : dict = dict()\n",
    "\n",
    "#loop through and generate per mutation data\n",
    "for i  in range(1,3817, 1):\n",
    "\n",
    "    NumPositiveSamples : int = 0\n",
    "    NumNegativeSamples : int = 0\n",
    "    CanWithMutation : int = 0\n",
    "    NonCanWithMutation : int = 0\n",
    "    percCancer : float = 0\n",
    "    percNonCancer : float = 0\n",
    "    totalInRow : int = 0\n",
    "\n",
    "    totalInRow = 0\n",
    "    for j in range(0, 230, 1):\n",
    "\n",
    "        dat = int(data.iloc[j, i])\n",
    "        totalInRow = totalInRow + 1\n",
    "        if dat == 1:\n",
    "            NumPositiveSamples = NumPositiveSamples + 1\n",
    "            if data.iloc[j, 0][0] == 'N': NonCanWithMutation = NonCanWithMutation + 1\n",
    "            else: CanWithMutation = CanWithMutation + 1\n",
    "        else: NumNegativeSamples = NumNegativeSamples + 1\n",
    "    percCancer = ((CanWithMutation / numCancer) * 100) if (CanWithMutation != 0) else 0\n",
    "    percNonCancer = ((NonCanWithMutation / numNot) * 100) if (NonCanWithMutation != 0) else 0\n",
    "    CSubNC = percCancer-percNonCancer\n",
    "    CDivNC = percCancer/percNonCancer if percNonCancer > 0 else float(\"nan\")\n",
    "    x[i] = [str(data.columns[i]), totalInRow, NumPositiveSamples, NumNegativeSamples, percCancer, percNonCancer, CSubNC, CDivNC]\n",
    "    # print(x[i])\n",
    "\n",
    "ff = pandas.DataFrame.from_dict(x, \"index\")\n",
    "ff.columns = [\"Name\", \"Total\", \"Number Positive\", \"Number Negative\", \"Number %C\", \"Number %NC\", \"Number %C-%NC\", \"%C / %NC\"]"
   ]
  },
  {
   "cell_type": "code",
   "execution_count": 25,
   "metadata": {
    "pycharm": {
     "name": "#%%\n"
    }
   },
   "outputs": [
    {
     "name": "stdout",
     "output_type": "stream",
     "text": [
      "                                                   Name  Total  \\\n",
      "1     PLD4_GRCh38_14:104932802-104932802_Silent_SNP_...    230   \n",
      "2549  DCAF4L1_GRCh38_4:41984099-41984099_3'UTR_DEL_T...    230   \n",
      "2537     SOX11_GRCh38_2:5701175-5701176_3'UTR_INS_----T    230   \n",
      "2538  DYNC2LI1_GRCh38_2:43794342-43794342_Intron_DEL...    230   \n",
      "2539  WDR33_GRCh38_2:127704618-127704618_3'UTR_DEL_A...    230   \n",
      "2540  PRPF40A_GRCh38_2:152672597-152672597_Frame-Shi...    230   \n",
      "2541  MYO3B_GRCh38_2:170653077-170653077_Frame-Shift...    230   \n",
      "2542  ABI2_GRCh38_2:203427472-203427472_3'UTR_DEL_T-T--    230   \n",
      "2543  MAP2_GRCh38_2:209696943-209696943_Frame-Shift-...    230   \n",
      "2544  COPS7B_GRCh38_2:231808669-231808669_3'UTR_DEL_...    230   \n",
      "\n",
      "      Number Positive  Number Negative  Number %C  Number %NC  Number %C-%NC  \\\n",
      "1                   2              228   0.909091    0.833333       0.075758   \n",
      "2549                4              226   1.818182    1.666667       0.151515   \n",
      "2537                2              228   0.909091    0.833333       0.075758   \n",
      "2538                5              225   2.727273    1.666667       1.060606   \n",
      "2539                4              226   1.818182    1.666667       0.151515   \n",
      "2540                2              228   0.909091    0.833333       0.075758   \n",
      "2541                2              228   0.000000    1.666667      -1.666667   \n",
      "2542                2              228   0.909091    0.833333       0.075758   \n",
      "2543                2              228   0.909091    0.833333       0.075758   \n",
      "2544                2              228   0.909091    0.833333       0.075758   \n",
      "\n",
      "      %C / %NC  \n",
      "1     1.090909  \n",
      "2549  1.090909  \n",
      "2537  1.090909  \n",
      "2538  1.636364  \n",
      "2539  1.090909  \n",
      "2540  1.090909  \n",
      "2541  0.000000  \n",
      "2542  1.090909  \n",
      "2543  1.090909  \n",
      "2544  1.090909  \n"
     ]
    },
    {
     "name": "stderr",
     "output_type": "stream",
     "text": [
      "/tmp/ipykernel_8642/494957670.py:1: FutureWarning: In a future version of pandas all arguments of DataFrame.sort_values except for the argument 'by' will be keyword-only\n",
      "  f = ff.sort_values('Total', 0, False)\n"
     ]
    }
   ],
   "source": [
    "f = ff.sort_values('Total', 0, False)\n",
    "print(f.head(10))"
   ]
  },
  {
   "cell_type": "code",
   "execution_count": 26,
   "metadata": {
    "pycharm": {
     "name": "#%%\n"
    }
   },
   "outputs": [
    {
     "name": "stdout",
     "output_type": "stream",
     "text": [
      "                                                   Name  Total  \\\n",
      "76    KRAS_GRCh38_12:25245350-25245350_Missense-Muta...    230   \n",
      "298   BRAF_GRCh38_7:140753336-140753336_Missense-Mut...    230   \n",
      "1316  ZBTB18_GRCh38_1:244056272-244056272_3'UTR_DEL_...    230   \n",
      "699   KRAS_GRCh38_12:25245347-25245347_Missense-Muta...    230   \n",
      "35    XYLT2_GRCh38_17:50356606-50356606_Frame-Shift-...    230   \n",
      "125   SLC3A2_GRCh38_11:62882057-62882057_Frame-Shift...    230   \n",
      "744   RNF43_GRCh38_17:58357800-58357800_Frame-Shift-...    230   \n",
      "2     TP53_GRCh38_17:7675088-7675088_Missense-Mutati...    230   \n",
      "11    SRFBP1_GRCh38_5:122027171-122027171_3'UTR_DEL_...    230   \n",
      "1783  ZBTB20_GRCh38_3:114339156-114339156_Frame-Shif...    230   \n",
      "\n",
      "      Number Positive  Number Negative  Number %C  Number %NC  Number %C-%NC  \\\n",
      "76                 42              188  23.636364   13.333333      10.303030   \n",
      "298                34              196  26.363636    4.166667      22.196970   \n",
      "1316               19              211  10.909091    5.833333       5.075758   \n",
      "699                17              213  10.000000    5.000000       5.000000   \n",
      "35                 16              214  13.636364    0.833333      12.803030   \n",
      "125                16              214  11.818182    2.500000       9.318182   \n",
      "744                16              214   9.090909    5.000000       4.090909   \n",
      "2                  15              215   6.363636    6.666667      -0.303030   \n",
      "11                 15              215  10.000000    3.333333       6.666667   \n",
      "1783               15              215  11.818182    1.666667      10.151515   \n",
      "\n",
      "       %C / %NC  \n",
      "76     1.772727  \n",
      "298    6.327273  \n",
      "1316   1.870130  \n",
      "699    2.000000  \n",
      "35    16.363636  \n",
      "125    4.727273  \n",
      "744    1.818182  \n",
      "2      0.954545  \n",
      "11     3.000000  \n",
      "1783   7.090909  \n"
     ]
    },
    {
     "name": "stderr",
     "output_type": "stream",
     "text": [
      "/tmp/ipykernel_8642/2715828272.py:1: FutureWarning: In a future version of pandas all arguments of DataFrame.sort_values except for the argument 'by' will be keyword-only\n",
      "  f = ff.sort_values('Number Positive', 0, False)\n"
     ]
    }
   ],
   "source": [
    "f = ff.sort_values('Number Positive', 0, False)\n",
    "print(f.head(10))"
   ]
  },
  {
   "cell_type": "code",
   "execution_count": 27,
   "metadata": {
    "pycharm": {
     "name": "#%%\n"
    }
   },
   "outputs": [
    {
     "name": "stdout",
     "output_type": "stream",
     "text": [
      "                                                   Name  Total  \\\n",
      "1     PLD4_GRCh38_14:104932802-104932802_Silent_SNP_...    230   \n",
      "2530  FBXL7_GRCh38_5:15937149-15937149_Missense-Muta...    230   \n",
      "2513  HERC1_GRCh38_15:63678206-63678206_Frame-Shift-...    230   \n",
      "2514  CALML4_GRCh38_15:68194007-68194009_3'UTR_DEL_C...    230   \n",
      "2515  SIN3A_GRCh38_15:75380702-75380702_Nonsense-Mut...    230   \n",
      "2518  ENGASE_GRCh38_17:79085275-79085275_Frame-Shift...    230   \n",
      "2519  CEP76_GRCh38_18:12673207-12673207_3'UTR_DEL_T-T--    230   \n",
      "2522  MEGF8_GRCh38_19:42357575-42357575_Frame-Shift-...    230   \n",
      "2524  ARFGAP3_GRCh38_22:42823659-42823659_Frame-Shif...    230   \n",
      "2525    ZBED1_GRCh38_X:2490615-2490615_Silent_SNP_G-G-A    230   \n",
      "\n",
      "      Number Positive  Number Negative  Number %C  Number %NC  Number %C-%NC  \\\n",
      "1                   2              228   0.909091    0.833333       0.075758   \n",
      "2530                2              228   0.909091    0.833333       0.075758   \n",
      "2513                2              228   1.818182    0.000000       1.818182   \n",
      "2514                2              228   1.818182    0.000000       1.818182   \n",
      "2515                2              228   1.818182    0.000000       1.818182   \n",
      "2518                2              228   0.909091    0.833333       0.075758   \n",
      "2519                2              228   1.818182    0.000000       1.818182   \n",
      "2522                2              228   1.818182    0.000000       1.818182   \n",
      "2524                2              228   1.818182    0.000000       1.818182   \n",
      "2525                2              228   1.818182    0.000000       1.818182   \n",
      "\n",
      "      %C / %NC  \n",
      "1     1.090909  \n",
      "2530  1.090909  \n",
      "2513       NaN  \n",
      "2514       NaN  \n",
      "2515       NaN  \n",
      "2518  1.090909  \n",
      "2519       NaN  \n",
      "2522       NaN  \n",
      "2524       NaN  \n",
      "2525       NaN  \n"
     ]
    },
    {
     "name": "stderr",
     "output_type": "stream",
     "text": [
      "/tmp/ipykernel_8642/3429632573.py:1: FutureWarning: In a future version of pandas all arguments of DataFrame.sort_values except for the argument 'by' will be keyword-only\n",
      "  f = ff.sort_values('Number Negative', 0, False)\n"
     ]
    }
   ],
   "source": [
    "f = ff.sort_values('Number Negative', 0, False)\n",
    "print(f.head(10))"
   ]
  },
  {
   "cell_type": "code",
   "execution_count": 28,
   "metadata": {
    "pycharm": {
     "name": "#%%\n"
    }
   },
   "outputs": [
    {
     "name": "stdout",
     "output_type": "stream",
     "text": [
      "                                                   Name  Total  \\\n",
      "298   BRAF_GRCh38_7:140753336-140753336_Missense-Mut...    230   \n",
      "76    KRAS_GRCh38_12:25245350-25245350_Missense-Muta...    230   \n",
      "35    XYLT2_GRCh38_17:50356606-50356606_Frame-Shift-...    230   \n",
      "1783  ZBTB20_GRCh38_3:114339156-114339156_Frame-Shif...    230   \n",
      "125   SLC3A2_GRCh38_11:62882057-62882057_Frame-Shift...    230   \n",
      "1316  ZBTB18_GRCh38_1:244056272-244056272_3'UTR_DEL_...    230   \n",
      "699   KRAS_GRCh38_12:25245347-25245347_Missense-Muta...    230   \n",
      "11    SRFBP1_GRCh38_5:122027171-122027171_3'UTR_DEL_...    230   \n",
      "210   DOCK3_GRCh38_3:51380173-51380173_Frame-Shift-D...    230   \n",
      "107   ZNF644_GRCh38_1:90916736-90916736_3'UTR_DEL_A-A--    230   \n",
      "\n",
      "      Number Positive  Number Negative  Number %C  Number %NC  Number %C-%NC  \\\n",
      "298                34              196  26.363636    4.166667      22.196970   \n",
      "76                 42              188  23.636364   13.333333      10.303030   \n",
      "35                 16              214  13.636364    0.833333      12.803030   \n",
      "1783               15              215  11.818182    1.666667      10.151515   \n",
      "125                16              214  11.818182    2.500000       9.318182   \n",
      "1316               19              211  10.909091    5.833333       5.075758   \n",
      "699                17              213  10.000000    5.000000       5.000000   \n",
      "11                 15              215  10.000000    3.333333       6.666667   \n",
      "210                13              217   9.090909    2.500000       6.590909   \n",
      "107                13              217   9.090909    2.500000       6.590909   \n",
      "\n",
      "       %C / %NC  \n",
      "298    6.327273  \n",
      "76     1.772727  \n",
      "35    16.363636  \n",
      "1783   7.090909  \n",
      "125    4.727273  \n",
      "1316   1.870130  \n",
      "699    2.000000  \n",
      "11     3.000000  \n",
      "210    3.636364  \n",
      "107    3.636364  \n"
     ]
    },
    {
     "name": "stderr",
     "output_type": "stream",
     "text": [
      "/tmp/ipykernel_8642/2186030392.py:1: FutureWarning: In a future version of pandas all arguments of DataFrame.sort_values except for the argument 'by' will be keyword-only\n",
      "  f = ff.sort_values('Number %C', 0, False)\n"
     ]
    }
   ],
   "source": [
    "f = ff.sort_values('Number %C', 0, False)\n",
    "print(f.head(10))"
   ]
  },
  {
   "cell_type": "code",
   "execution_count": 29,
   "metadata": {
    "pycharm": {
     "name": "#%%\n"
    }
   },
   "outputs": [
    {
     "name": "stdout",
     "output_type": "stream",
     "text": [
      "                                                   Name  Total  \\\n",
      "76    KRAS_GRCh38_12:25245350-25245350_Missense-Muta...    230   \n",
      "2     TP53_GRCh38_17:7675088-7675088_Missense-Mutati...    230   \n",
      "34    TP53_GRCh38_17:7674220-7674220_Missense-Mutati...    230   \n",
      "1316  ZBTB18_GRCh38_1:244056272-244056272_3'UTR_DEL_...    230   \n",
      "68    FAM46D_GRCh38_X:80444260-80444260_3'UTR_DEL_T-T--    230   \n",
      "1404  ACVR2A_GRCh38_2:147926117-147926117_Frame-Shif...    230   \n",
      "699   KRAS_GRCh38_12:25245347-25245347_Missense-Muta...    230   \n",
      "1763  TP53_GRCh38_17:7674221-7674221_Missense-Mutati...    230   \n",
      "744   RNF43_GRCh38_17:58357800-58357800_Frame-Shift-...    230   \n",
      "56    KRAS_GRCh38_12:25245351-25245351_Missense-Muta...    230   \n",
      "\n",
      "      Number Positive  Number Negative  Number %C  Number %NC  Number %C-%NC  \\\n",
      "76                 42              188  23.636364   13.333333      10.303030   \n",
      "2                  15              215   6.363636    6.666667      -0.303030   \n",
      "34                 11              219   3.636364    5.833333      -2.196970   \n",
      "1316               19              211  10.909091    5.833333       5.075758   \n",
      "68                  7              223   0.909091    5.000000      -4.090909   \n",
      "1404               14              216   7.272727    5.000000       2.272727   \n",
      "699                17              213  10.000000    5.000000       5.000000   \n",
      "1763                7              223   0.909091    5.000000      -4.090909   \n",
      "744                16              214   9.090909    5.000000       4.090909   \n",
      "56                 11              219   4.545455    5.000000      -0.454545   \n",
      "\n",
      "      %C / %NC  \n",
      "76    1.772727  \n",
      "2     0.954545  \n",
      "34    0.623377  \n",
      "1316  1.870130  \n",
      "68    0.181818  \n",
      "1404  1.454545  \n",
      "699   2.000000  \n",
      "1763  0.181818  \n",
      "744   1.818182  \n",
      "56    0.909091  \n"
     ]
    },
    {
     "name": "stderr",
     "output_type": "stream",
     "text": [
      "/tmp/ipykernel_8642/2053042298.py:1: FutureWarning: In a future version of pandas all arguments of DataFrame.sort_values except for the argument 'by' will be keyword-only\n",
      "  f = ff.sort_values('Number %NC', 0, False)\n"
     ]
    }
   ],
   "source": [
    "f = ff.sort_values('Number %NC', 0, False)\n",
    "print(f.head(10))"
   ]
  },
  {
   "cell_type": "code",
   "execution_count": 30,
   "metadata": {
    "pycharm": {
     "name": "#%%\n"
    }
   },
   "outputs": [
    {
     "name": "stdout",
     "output_type": "stream",
     "text": [
      "                                                   Name  Total  \\\n",
      "298   BRAF_GRCh38_7:140753336-140753336_Missense-Mut...    230   \n",
      "35    XYLT2_GRCh38_17:50356606-50356606_Frame-Shift-...    230   \n",
      "76    KRAS_GRCh38_12:25245350-25245350_Missense-Muta...    230   \n",
      "1783  ZBTB20_GRCh38_3:114339156-114339156_Frame-Shif...    230   \n",
      "125   SLC3A2_GRCh38_11:62882057-62882057_Frame-Shift...    230   \n",
      "1127  C5orf24_GRCh38_5:134856972-134856972_3'UTR_DEL...    230   \n",
      "368   SCN2B_GRCh38_11:118176520-118176520_5'UTR_DEL_...    230   \n",
      "394   ATP5EP2_GRCh38_13:27945509-27945509_3'UTR_DEL_...    230   \n",
      "282      ELFN1_GRCh38_7:1747915-1747915_3'UTR_DEL_A-A--    230   \n",
      "231   CENPC_GRCh38_4:67519218-67519218_Frame-Shift-D...    230   \n",
      "\n",
      "      Number Positive  Number Negative  Number %C  Number %NC  Number %C-%NC  \\\n",
      "298                34              196  26.363636    4.166667      22.196970   \n",
      "35                 16              214  13.636364    0.833333      12.803030   \n",
      "76                 42              188  23.636364   13.333333      10.303030   \n",
      "1783               15              215  11.818182    1.666667      10.151515   \n",
      "125                16              214  11.818182    2.500000       9.318182   \n",
      "1127               12              218   9.090909    1.666667       7.424242   \n",
      "368                12              218   9.090909    1.666667       7.424242   \n",
      "394                10              220   8.181818    0.833333       7.348485   \n",
      "282                10              220   8.181818    0.833333       7.348485   \n",
      "231                 8              222   7.272727    0.000000       7.272727   \n",
      "\n",
      "       %C / %NC  \n",
      "298    6.327273  \n",
      "35    16.363636  \n",
      "76     1.772727  \n",
      "1783   7.090909  \n",
      "125    4.727273  \n",
      "1127   5.454545  \n",
      "368    5.454545  \n",
      "394    9.818182  \n",
      "282    9.818182  \n",
      "231         NaN  \n"
     ]
    },
    {
     "name": "stderr",
     "output_type": "stream",
     "text": [
      "/tmp/ipykernel_8642/4039385554.py:1: FutureWarning: In a future version of pandas all arguments of DataFrame.sort_values except for the argument 'by' will be keyword-only\n",
      "  f = ff.sort_values('Number %C-%NC', 0, False)\n"
     ]
    }
   ],
   "source": [
    "f = ff.sort_values('Number %C-%NC', 0, False)\n",
    "print(f.head(10))"
   ]
  },
  {
   "cell_type": "code",
   "execution_count": 5,
   "metadata": {
    "pycharm": {
     "name": "#%%\n"
    }
   },
   "outputs": [
    {
     "ename": "NameError",
     "evalue": "name 'ff' is not defined",
     "output_type": "error",
     "traceback": [
      "\u001b[0;31m---------------------------------------------------------------------------\u001b[0m",
      "\u001b[0;31mNameError\u001b[0m                                 Traceback (most recent call last)",
      "Input \u001b[0;32mIn [5]\u001b[0m, in \u001b[0;36m<cell line: 1>\u001b[0;34m()\u001b[0m\n\u001b[0;32m----> 1\u001b[0m f \u001b[38;5;241m=\u001b[39m \u001b[43mff\u001b[49m\u001b[38;5;241m.\u001b[39msort_values(\u001b[38;5;124m'\u001b[39m\u001b[38;5;124m%\u001b[39m\u001b[38;5;124mC / \u001b[39m\u001b[38;5;124m%\u001b[39m\u001b[38;5;124mNC\u001b[39m\u001b[38;5;124m'\u001b[39m, \u001b[38;5;241m0\u001b[39m, \u001b[38;5;28;01mFalse\u001b[39;00m)\n\u001b[1;32m      2\u001b[0m \u001b[38;5;28mprint\u001b[39m(f\u001b[38;5;241m.\u001b[39mhead(\u001b[38;5;241m10\u001b[39m))\n",
      "\u001b[0;31mNameError\u001b[0m: name 'ff' is not defined"
     ]
    }
   ],
   "source": [
    "f = ff.sort_values('%C / %NC', 0, False)\n",
    "print(f.head(10))"
   ]
  },
  {
   "cell_type": "markdown",
   "metadata": {
    "pycharm": {
     "name": "#%% md\n"
    }
   },
   "source": [
    "# Here's the confusion chart stuff"
   ]
  },
  {
   "cell_type": "code",
   "execution_count": 6,
   "metadata": {
    "pycharm": {
     "name": "#%%\n"
    }
   },
   "outputs": [],
   "source": [
    "# Generate our datatable for confusion matrix\n",
    "\n",
    "d = data\n",
    "#first off we're going to generate a more machine readable dataset by transforming the first column into 1s (for cancer) and 0s (noncancer)\n",
    "for i in range(0, 230, 1):\n",
    "    dataat = data.iloc[i,0]\n",
    "    if dataat[0] == 'N':\n",
    "        d.iloc[i,0] = 0\n",
    "    else:\n",
    "        d.iloc[i,0] = 1\n",
    "#d now contains the machine-readable data so we'll now use that\n",
    "\n"
   ]
  },
  {
   "cell_type": "code",
   "execution_count": 7,
   "metadata": {
    "pycharm": {
     "name": "#%%\n"
    }
   },
   "outputs": [
    {
     "name": "stdout",
     "output_type": "stream",
     "text": [
      "BRAF_GRCh38_7:140753336-140753336_Missense-Mutation_SNP_A-A-T\n",
      "                 Predicted Positive  Predicted Negative\n",
      "Actual Positive                  29                  81\n",
      "Actual Negative                   5                 115\n"
     ]
    }
   ],
   "source": [
    "dd = pandas.DataFrame()\n",
    "x : int = 0\n",
    "dd = d\n",
    "\n",
    "\n",
    "idxOfGoal : int = 298\n",
    "print (data.columns[idxOfGoal])\n",
    "\n",
    "\n",
    "confusion : dict = dict()\n",
    "\n",
    "countTruePos = 0\n",
    "countTrueNeg = 0\n",
    "countFalsePos = 0\n",
    "countFalseNeg = 0\n",
    "\n",
    "for i in range(0, 230, 1):\n",
    "    c = dd.iloc[i,0]\n",
    "    t = dd.iloc[i, idxOfGoal]\n",
    "    if c == 1:\n",
    "        if (c == t): countTruePos = countTruePos + 1\n",
    "        else: countFalseNeg = countFalseNeg + 1\n",
    "    else:\n",
    "        if (c == t): countTrueNeg = countTrueNeg + 1\n",
    "        else: countFalsePos = countFalsePos + 1\n",
    "\n",
    "confusion[\"Actual Positive\"] = [countTruePos, countFalseNeg]\n",
    "confusion[\"Actual Negative\"] = [countFalsePos, countTrueNeg]\n",
    "\n",
    "confusionmatrix = pandas.DataFrame.from_dict(confusion, \"index\")\n",
    "confusionmatrix.columns = [\"Predicted Positive\", \"Predicted Negative\"]\n",
    "\n",
    "print(confusionmatrix)\n",
    "\n",
    "\n",
    "\n"
   ]
  },
  {
   "cell_type": "code",
   "execution_count": 8,
   "metadata": {
    "pycharm": {
     "name": "#%%\n"
    }
   },
   "outputs": [
    {
     "name": "stdout",
     "output_type": "stream",
     "text": [
      "TP53_GRCh38_17:7675088-7675088_Missense-Mutation_SNP_C-T-T_C-C-T\n"
     ]
    },
    {
     "ename": "KeyError",
     "evalue": "298",
     "output_type": "error",
     "traceback": [
      "\u001b[0;31m---------------------------------------------------------------------------\u001b[0m",
      "\u001b[0;31mKeyError\u001b[0m                                  Traceback (most recent call last)",
      "File \u001b[0;32m/usr/lib/python3/dist-packages/pandas/core/indexes/base.py:3361\u001b[0m, in \u001b[0;36mIndex.get_loc\u001b[0;34m(self, key, method, tolerance)\u001b[0m\n\u001b[1;32m   3360\u001b[0m \u001b[38;5;28;01mtry\u001b[39;00m:\n\u001b[0;32m-> 3361\u001b[0m     \u001b[38;5;28;01mreturn\u001b[39;00m \u001b[38;5;28;43mself\u001b[39;49m\u001b[38;5;241;43m.\u001b[39;49m\u001b[43m_engine\u001b[49m\u001b[38;5;241;43m.\u001b[39;49m\u001b[43mget_loc\u001b[49m\u001b[43m(\u001b[49m\u001b[43mcasted_key\u001b[49m\u001b[43m)\u001b[49m\n\u001b[1;32m   3362\u001b[0m \u001b[38;5;28;01mexcept\u001b[39;00m \u001b[38;5;167;01mKeyError\u001b[39;00m \u001b[38;5;28;01mas\u001b[39;00m err:\n",
      "File \u001b[0;32m/usr/lib/python3/dist-packages/pandas/_libs/index.pyx:76\u001b[0m, in \u001b[0;36mpandas._libs.index.IndexEngine.get_loc\u001b[0;34m()\u001b[0m\n",
      "File \u001b[0;32m/usr/lib/python3/dist-packages/pandas/_libs/index.pyx:108\u001b[0m, in \u001b[0;36mpandas._libs.index.IndexEngine.get_loc\u001b[0;34m()\u001b[0m\n",
      "File \u001b[0;32mpandas/_libs/hashtable_class_helper.pxi:5198\u001b[0m, in \u001b[0;36mpandas._libs.hashtable.PyObjectHashTable.get_item\u001b[0;34m()\u001b[0m\n",
      "File \u001b[0;32mpandas/_libs/hashtable_class_helper.pxi:5206\u001b[0m, in \u001b[0;36mpandas._libs.hashtable.PyObjectHashTable.get_item\u001b[0;34m()\u001b[0m\n",
      "\u001b[0;31mKeyError\u001b[0m: 298",
      "\nThe above exception was the direct cause of the following exception:\n",
      "\u001b[0;31mKeyError\u001b[0m                                  Traceback (most recent call last)",
      "Input \u001b[0;32mIn [8]\u001b[0m, in \u001b[0;36m<cell line: 47>\u001b[0;34m()\u001b[0m\n\u001b[1;32m     45\u001b[0m     countTrueNeg \u001b[38;5;241m=\u001b[39m \u001b[38;5;241m0\u001b[39m\n\u001b[1;32m     46\u001b[0m     countFalseNeg \u001b[38;5;241m=\u001b[39m \u001b[38;5;241m0\u001b[39m\n\u001b[0;32m---> 47\u001b[0m \u001b[38;5;28mprint\u001b[39m(\u001b[43mdata\u001b[49m\u001b[43m[\u001b[49m\u001b[43mtpsubindex\u001b[49m\u001b[43m]\u001b[49m)\n\u001b[1;32m     48\u001b[0m \u001b[38;5;28mprint\u001b[39m(\u001b[38;5;124m\"\u001b[39m\u001b[38;5;124mMax TP - FP: \u001b[39m\u001b[38;5;124m\"\u001b[39m \u001b[38;5;241m+\u001b[39m \u001b[38;5;28mstr\u001b[39m(Tpsubfp) \u001b[38;5;241m+\u001b[39m \u001b[38;5;124m'\u001b[39m\u001b[38;5;130;01m\\n\u001b[39;00m\u001b[38;5;124m'\u001b[39m)\n\u001b[1;32m     49\u001b[0m \u001b[38;5;28mprint\u001b[39m(\u001b[38;5;124m\"\u001b[39m\u001b[38;5;124mIndex: \u001b[39m\u001b[38;5;124m\"\u001b[39m \u001b[38;5;241m+\u001b[39m \u001b[38;5;28mstr\u001b[39m(tpsubindex) \u001b[38;5;241m+\u001b[39m \u001b[38;5;124m'\u001b[39m\u001b[38;5;130;01m\\n\u001b[39;00m\u001b[38;5;124m'\u001b[39m)\n",
      "File \u001b[0;32m/usr/lib/python3/dist-packages/pandas/core/frame.py:3458\u001b[0m, in \u001b[0;36mDataFrame.__getitem__\u001b[0;34m(self, key)\u001b[0m\n\u001b[1;32m   3456\u001b[0m \u001b[38;5;28;01mif\u001b[39;00m \u001b[38;5;28mself\u001b[39m\u001b[38;5;241m.\u001b[39mcolumns\u001b[38;5;241m.\u001b[39mnlevels \u001b[38;5;241m>\u001b[39m \u001b[38;5;241m1\u001b[39m:\n\u001b[1;32m   3457\u001b[0m     \u001b[38;5;28;01mreturn\u001b[39;00m \u001b[38;5;28mself\u001b[39m\u001b[38;5;241m.\u001b[39m_getitem_multilevel(key)\n\u001b[0;32m-> 3458\u001b[0m indexer \u001b[38;5;241m=\u001b[39m \u001b[38;5;28;43mself\u001b[39;49m\u001b[38;5;241;43m.\u001b[39;49m\u001b[43mcolumns\u001b[49m\u001b[38;5;241;43m.\u001b[39;49m\u001b[43mget_loc\u001b[49m\u001b[43m(\u001b[49m\u001b[43mkey\u001b[49m\u001b[43m)\u001b[49m\n\u001b[1;32m   3459\u001b[0m \u001b[38;5;28;01mif\u001b[39;00m is_integer(indexer):\n\u001b[1;32m   3460\u001b[0m     indexer \u001b[38;5;241m=\u001b[39m [indexer]\n",
      "File \u001b[0;32m/usr/lib/python3/dist-packages/pandas/core/indexes/base.py:3363\u001b[0m, in \u001b[0;36mIndex.get_loc\u001b[0;34m(self, key, method, tolerance)\u001b[0m\n\u001b[1;32m   3361\u001b[0m         \u001b[38;5;28;01mreturn\u001b[39;00m \u001b[38;5;28mself\u001b[39m\u001b[38;5;241m.\u001b[39m_engine\u001b[38;5;241m.\u001b[39mget_loc(casted_key)\n\u001b[1;32m   3362\u001b[0m     \u001b[38;5;28;01mexcept\u001b[39;00m \u001b[38;5;167;01mKeyError\u001b[39;00m \u001b[38;5;28;01mas\u001b[39;00m err:\n\u001b[0;32m-> 3363\u001b[0m         \u001b[38;5;28;01mraise\u001b[39;00m \u001b[38;5;167;01mKeyError\u001b[39;00m(key) \u001b[38;5;28;01mfrom\u001b[39;00m \u001b[38;5;21;01merr\u001b[39;00m\n\u001b[1;32m   3365\u001b[0m \u001b[38;5;28;01mif\u001b[39;00m is_scalar(key) \u001b[38;5;129;01mand\u001b[39;00m isna(key) \u001b[38;5;129;01mand\u001b[39;00m \u001b[38;5;129;01mnot\u001b[39;00m \u001b[38;5;28mself\u001b[39m\u001b[38;5;241m.\u001b[39mhasnans:\n\u001b[1;32m   3366\u001b[0m     \u001b[38;5;28;01mraise\u001b[39;00m \u001b[38;5;167;01mKeyError\u001b[39;00m(key)\n",
      "\u001b[0;31mKeyError\u001b[0m: 298"
     ]
    }
   ],
   "source": [
    "dd = pandas.DataFrame()\n",
    "x : int = 0\n",
    "dd = d\n",
    "\n",
    "\n",
    "print (data.columns[2])\n",
    "idxOfGoal : int = 298\n",
    "\n",
    "confusion : dict = dict()\n",
    "\n",
    "countTruePos = 0\n",
    "countTrueNeg = 0\n",
    "countFalsePos = 0\n",
    "countFalseNeg = 0\n",
    "\n",
    "Tpsubfp = -1\n",
    "tpsubindex = -1\n",
    "\n",
    "percsubfp = -1\n",
    "percsubindex = -1\n",
    "\n",
    "\n",
    "for j in range(1,3817, 1):\n",
    "    for i in range(0, 230, 1):\n",
    "        c = dd.iloc[i,0]\n",
    "        t = dd.iloc[i, j]\n",
    "        if c == 1:\n",
    "            if (c == t): countTruePos = countTruePos + 1\n",
    "            else: countFalseNeg = countFalseNeg + 1\n",
    "        else:\n",
    "            if (c == t): countTrueNeg = countTrueNeg + 1\n",
    "            else: countFalsePos = countFalsePos + 1\n",
    "\n",
    "    tempsub = countTruePos - countFalsePos\n",
    "    if (tempsub > Tpsubfp):\n",
    "        Tpsubfp = tempsub\n",
    "        tpsubindex = j\n",
    "    tempperc = (countTruePos / 230) - (countFalsePos / 230)\n",
    "    if (tempperc > percsubfp):\n",
    "        percsubfp = tempperc\n",
    "        percsubindex = j\n",
    "\n",
    "    countFalsePos = 0\n",
    "    countTruePos = 0\n",
    "    countTrueNeg = 0\n",
    "    countFalseNeg = 0\n",
    "print(data[tpsubindex])\n",
    "print(\"Max TP - FP: \" + str(Tpsubfp) + '\\n')\n",
    "print(\"Index: \" + str(tpsubindex) + '\\n')\n",
    "\n",
    "print(\"Max %TP - %FP: \" + str(percsubfp * 100) + '\\n')\n",
    "print(\"Index: \" + str(percsubindex) + '\\n')\n",
    "\n",
    "\n"
   ]
  },
  {
   "cell_type": "markdown",
   "metadata": {
    "pycharm": {
     "name": "#%% md\n"
    }
   },
   "source": [
    "## Activity 4 Week one, finding most useful F"
   ]
  },
  {
   "cell_type": "code",
   "execution_count": 9,
   "metadata": {
    "pycharm": {
     "name": "#%%\n"
    }
   },
   "outputs": [
    {
     "data": {
      "text/html": [
       "<div>\n",
       "<style scoped>\n",
       "    .dataframe tbody tr th:only-of-type {\n",
       "        vertical-align: middle;\n",
       "    }\n",
       "\n",
       "    .dataframe tbody tr th {\n",
       "        vertical-align: top;\n",
       "    }\n",
       "\n",
       "    .dataframe thead th {\n",
       "        text-align: right;\n",
       "    }\n",
       "</style>\n",
       "<table border=\"1\" class=\"dataframe\">\n",
       "  <thead>\n",
       "    <tr style=\"text-align: right;\">\n",
       "      <th></th>\n",
       "      <th>Name</th>\n",
       "      <th>TP - FP</th>\n",
       "    </tr>\n",
       "  </thead>\n",
       "  <tbody>\n",
       "    <tr>\n",
       "      <th>298</th>\n",
       "      <td>BRAF_GRCh38_7:140753336-140753336_Missense-Mut...</td>\n",
       "      <td>24</td>\n",
       "    </tr>\n",
       "    <tr>\n",
       "      <th>35</th>\n",
       "      <td>XYLT2_GRCh38_17:50356606-50356606_Frame-Shift-...</td>\n",
       "      <td>14</td>\n",
       "    </tr>\n",
       "    <tr>\n",
       "      <th>1783</th>\n",
       "      <td>ZBTB20_GRCh38_3:114339156-114339156_Frame-Shif...</td>\n",
       "      <td>11</td>\n",
       "    </tr>\n",
       "    <tr>\n",
       "      <th>125</th>\n",
       "      <td>SLC3A2_GRCh38_11:62882057-62882057_Frame-Shift...</td>\n",
       "      <td>10</td>\n",
       "    </tr>\n",
       "    <tr>\n",
       "      <th>76</th>\n",
       "      <td>KRAS_GRCh38_12:25245350-25245350_Missense-Muta...</td>\n",
       "      <td>10</td>\n",
       "    </tr>\n",
       "    <tr>\n",
       "      <th>394</th>\n",
       "      <td>ATP5EP2_GRCh38_13:27945509-27945509_3'UTR_DEL_...</td>\n",
       "      <td>8</td>\n",
       "    </tr>\n",
       "    <tr>\n",
       "      <th>1127</th>\n",
       "      <td>C5orf24_GRCh38_5:134856972-134856972_3'UTR_DEL...</td>\n",
       "      <td>8</td>\n",
       "    </tr>\n",
       "    <tr>\n",
       "      <th>282</th>\n",
       "      <td>ELFN1_GRCh38_7:1747915-1747915_3'UTR_DEL_A-A--</td>\n",
       "      <td>8</td>\n",
       "    </tr>\n",
       "    <tr>\n",
       "      <th>176</th>\n",
       "      <td>PLEKHA6_GRCh38_1:204259283-204259283_Frame-Shi...</td>\n",
       "      <td>8</td>\n",
       "    </tr>\n",
       "    <tr>\n",
       "      <th>368</th>\n",
       "      <td>SCN2B_GRCh38_11:118176520-118176520_5'UTR_DEL_...</td>\n",
       "      <td>8</td>\n",
       "    </tr>\n",
       "  </tbody>\n",
       "</table>\n",
       "</div>"
      ],
      "text/plain": [
       "                                                   Name  TP - FP\n",
       "298   BRAF_GRCh38_7:140753336-140753336_Missense-Mut...       24\n",
       "35    XYLT2_GRCh38_17:50356606-50356606_Frame-Shift-...       14\n",
       "1783  ZBTB20_GRCh38_3:114339156-114339156_Frame-Shif...       11\n",
       "125   SLC3A2_GRCh38_11:62882057-62882057_Frame-Shift...       10\n",
       "76    KRAS_GRCh38_12:25245350-25245350_Missense-Muta...       10\n",
       "394   ATP5EP2_GRCh38_13:27945509-27945509_3'UTR_DEL_...        8\n",
       "1127  C5orf24_GRCh38_5:134856972-134856972_3'UTR_DEL...        8\n",
       "282      ELFN1_GRCh38_7:1747915-1747915_3'UTR_DEL_A-A--        8\n",
       "176   PLEKHA6_GRCh38_1:204259283-204259283_Frame-Shi...        8\n",
       "368   SCN2B_GRCh38_11:118176520-118176520_5'UTR_DEL_...        8"
      ]
     },
     "metadata": {},
     "output_type": "display_data"
    }
   ],
   "source": [
    "dd = pandas.DataFrame()\n",
    "x : int = 0\n",
    "dd = d\n",
    "\n",
    "idxOfGoal : int = 2\n",
    "\n",
    "confusion : dict = dict()\n",
    "\n",
    "\n",
    "tpSubFP = -1\n",
    "tpSubIDX = -1\n",
    "\n",
    "tpSubDict : dict = dict()\n",
    "\n",
    "for j in range(1,3817, 1):\n",
    "\n",
    "    countFalsePos = 0\n",
    "    countTruePos = 0\n",
    "\n",
    "    for i in range(0, 230, 1):\n",
    "        c = dd.iloc[i,0]\n",
    "        t = dd.iloc[i, j]\n",
    "\n",
    "        if c == 1:\n",
    "            if c == t: countTruePos = countTruePos + 1\n",
    "        else:\n",
    "            if c != t: countFalsePos = countFalsePos + 1\n",
    "\n",
    "\n",
    "    tempSub = countTruePos - countFalsePos\n",
    "\n",
    "    tpSubDict[j] = [data.columns[j], tempSub]\n",
    "\n",
    "tpSubDataframe = pandas.DataFrame.from_dict(tpSubDict, \"index\")\n",
    "tpSubDataframe.columns = [\"Name\", \"TP - FP\"]\n",
    "\n",
    "tpSubDataframe = tpSubDataframe.sort_values(\"TP - FP\", ascending=False)\n",
    "\n",
    "display(tpSubDataframe.head(10))\n",
    "\n"
   ]
  },
  {
   "cell_type": "markdown",
   "metadata": {
    "pycharm": {
     "name": "#%% md\n"
    }
   },
   "source": [
    "## Using most useful F, divide samples"
   ]
  },
  {
   "cell_type": "code",
   "execution_count": 11,
   "metadata": {
    "pycharm": {
     "name": "#%%\n"
    }
   },
   "outputs": [
    {
     "data": {
      "text/plain": [
       "[1,\n",
       " 4,\n",
       " 9,\n",
       " 10,\n",
       " 11,\n",
       " 14,\n",
       " 34,\n",
       " 36,\n",
       " 42,\n",
       " 58,\n",
       " 61,\n",
       " 68,\n",
       " 75,\n",
       " 80,\n",
       " 81,\n",
       " 85,\n",
       " 95,\n",
       " 102,\n",
       " 103,\n",
       " 112,\n",
       " 125,\n",
       " 134,\n",
       " 138,\n",
       " 140,\n",
       " 142,\n",
       " 145,\n",
       " 149,\n",
       " 155,\n",
       " 185,\n",
       " 192,\n",
       " 193,\n",
       " 195,\n",
       " 204,\n",
       " 227]"
      ]
     },
     "metadata": {},
     "output_type": "display_data"
    },
    {
     "data": {
      "text/plain": [
       "[0,\n",
       " 2,\n",
       " 3,\n",
       " 5,\n",
       " 6,\n",
       " 7,\n",
       " 8,\n",
       " 12,\n",
       " 13,\n",
       " 15,\n",
       " 16,\n",
       " 17,\n",
       " 18,\n",
       " 19,\n",
       " 20,\n",
       " 21,\n",
       " 22,\n",
       " 23,\n",
       " 24,\n",
       " 25,\n",
       " 26,\n",
       " 27,\n",
       " 28,\n",
       " 29,\n",
       " 30,\n",
       " 31,\n",
       " 32,\n",
       " 33,\n",
       " 35,\n",
       " 37,\n",
       " 38,\n",
       " 39,\n",
       " 40,\n",
       " 41,\n",
       " 43,\n",
       " 44,\n",
       " 45,\n",
       " 46,\n",
       " 47,\n",
       " 48,\n",
       " 49,\n",
       " 50,\n",
       " 51,\n",
       " 52,\n",
       " 53,\n",
       " 54,\n",
       " 55,\n",
       " 56,\n",
       " 57,\n",
       " 59,\n",
       " 60,\n",
       " 62,\n",
       " 63,\n",
       " 64,\n",
       " 65,\n",
       " 66,\n",
       " 67,\n",
       " 69,\n",
       " 70,\n",
       " 71,\n",
       " 72,\n",
       " 73,\n",
       " 74,\n",
       " 76,\n",
       " 77,\n",
       " 78,\n",
       " 79,\n",
       " 82,\n",
       " 83,\n",
       " 84,\n",
       " 86,\n",
       " 87,\n",
       " 88,\n",
       " 89,\n",
       " 90,\n",
       " 91,\n",
       " 92,\n",
       " 93,\n",
       " 94,\n",
       " 96,\n",
       " 97,\n",
       " 98,\n",
       " 99,\n",
       " 100,\n",
       " 101,\n",
       " 104,\n",
       " 105,\n",
       " 106,\n",
       " 107,\n",
       " 108,\n",
       " 109,\n",
       " 110,\n",
       " 111,\n",
       " 113,\n",
       " 114,\n",
       " 115,\n",
       " 116,\n",
       " 117,\n",
       " 118,\n",
       " 119,\n",
       " 120,\n",
       " 121,\n",
       " 122,\n",
       " 123,\n",
       " 124,\n",
       " 126,\n",
       " 127,\n",
       " 128,\n",
       " 129,\n",
       " 130,\n",
       " 131,\n",
       " 132,\n",
       " 133,\n",
       " 135,\n",
       " 136,\n",
       " 137,\n",
       " 139,\n",
       " 141,\n",
       " 143,\n",
       " 144,\n",
       " 146,\n",
       " 147,\n",
       " 148,\n",
       " 150,\n",
       " 151,\n",
       " 152,\n",
       " 153,\n",
       " 154,\n",
       " 156,\n",
       " 157,\n",
       " 158,\n",
       " 159,\n",
       " 160,\n",
       " 161,\n",
       " 162,\n",
       " 163,\n",
       " 164,\n",
       " 165,\n",
       " 166,\n",
       " 167,\n",
       " 168,\n",
       " 169,\n",
       " 170,\n",
       " 171,\n",
       " 172,\n",
       " 173,\n",
       " 174,\n",
       " 175,\n",
       " 176,\n",
       " 177,\n",
       " 178,\n",
       " 179,\n",
       " 180,\n",
       " 181,\n",
       " 182,\n",
       " 183,\n",
       " 184,\n",
       " 186,\n",
       " 187,\n",
       " 188,\n",
       " 189,\n",
       " 190,\n",
       " 191,\n",
       " 194,\n",
       " 196,\n",
       " 197,\n",
       " 198,\n",
       " 199,\n",
       " 200,\n",
       " 201,\n",
       " 202,\n",
       " 203,\n",
       " 205,\n",
       " 206,\n",
       " 207,\n",
       " 208,\n",
       " 209,\n",
       " 210,\n",
       " 211,\n",
       " 212,\n",
       " 213,\n",
       " 214,\n",
       " 215,\n",
       " 216,\n",
       " 217,\n",
       " 218,\n",
       " 219,\n",
       " 220,\n",
       " 221,\n",
       " 222,\n",
       " 223,\n",
       " 224,\n",
       " 225,\n",
       " 226,\n",
       " 228,\n",
       " 229]"
      ]
     },
     "metadata": {},
     "output_type": "display_data"
    }
   ],
   "source": [
    "PositiveIndexes = list()\n",
    "NegativeIndexes = list()\n",
    "\n",
    "\n",
    "\n",
    "for i in range(0, 230, 1):\n",
    "    if data.iloc[i, tpSubDataframe.index[0]] == 0:\n",
    "        NegativeIndexes.append(i)\n",
    "    else:\n",
    "        PositiveIndexes.append(i)\n",
    "\n",
    "\n",
    "display(PositiveIndexes)\n",
    "display(NegativeIndexes)"
   ]
  },
  {
   "cell_type": "code",
   "execution_count": null,
   "metadata": {
    "pycharm": {
     "name": "#%%\n"
    }
   },
   "outputs": [],
   "source": [
    "def GenerateTP(list : list):\n",
    "    TPDict2 = dict()\n",
    "    for j in range(1,3817, 1):\n",
    "\n",
    "        countFalsePos = 0\n",
    "        countTruePos = 0\n",
    "\n",
    "        for i in list:\n",
    "            c = dd.iloc[i,0]\n",
    "            t = dd.iloc[i, j]\n",
    "\n",
    "            if c == 1:\n",
    "                if c == t: countTruePos = countTruePos + 1\n",
    "            else:\n",
    "                if c != t: countFalsePos = countFalsePos + 1\n",
    "\n",
    "\n",
    "        tempSub = countTruePos - countFalsePos\n",
    "\n",
    "        TPDict2[j] = [data.columns[j], tempSub]\n",
    "\n",
    "    tpSubDataframe = pandas.DataFrame.from_dict(tpSubDict, \"index\")\n",
    "    tpSubDataframe.columns = [\"Name\", \"TP - FP\"]\n",
    "\n",
    "    return tpSubDataframe.sort_values(\"TP - FP\", ascending=False)\n",
    "\n",
    "for l in PositiveIndexes:\n"
   ]
  }
 ],
 "metadata": {
  "kernelspec": {
   "display_name": "Python 3 (ipykernel)",
   "language": "python",
   "name": "python3"
  },
  "language_info": {
   "codemirror_mode": {
    "name": "ipython",
    "version": 3
   },
   "file_extension": ".py",
   "mimetype": "text/x-python",
   "name": "python",
   "nbconvert_exporter": "python",
   "pygments_lexer": "ipython3",
   "version": "3.10.6"
  }
 },
 "nbformat": 4,
 "nbformat_minor": 1
}
